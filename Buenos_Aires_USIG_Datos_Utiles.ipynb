{
  "nbformat": 4,
  "nbformat_minor": 0,
  "metadata": {
    "colab": {
      "name": "Buenos Aires - USIG - Datos Utiles.ipynb",
      "provenance": [],
      "authorship_tag": "ABX9TyNDsVpbI5qfBxC05ZRqPxda",
      "include_colab_link": true
    },
    "kernelspec": {
      "name": "python3",
      "display_name": "Python 3"
    }
  },
  "cells": [
    {
      "cell_type": "markdown",
      "metadata": {
        "id": "view-in-github",
        "colab_type": "text"
      },
      "source": [
        "<a href=\"https://colab.research.google.com/github/cbittel/toolbox/blob/master/Buenos_Aires_USIG_Datos_Utiles.ipynb\" target=\"_parent\"><img src=\"https://colab.research.google.com/assets/colab-badge.svg\" alt=\"Open In Colab\"/></a>"
      ]
    },
    {
      "cell_type": "markdown",
      "metadata": {
        "id": "bcs_GAxhzBIy",
        "colab_type": "text"
      },
      "source": [
        "![Unidad de Sistemas de Información Geográfica](https://www.buenosaires.gob.ar/sites/gcaba/themes/gcbaV4/xgcaba/css/BA2016.png)\n",
        "\n",
        "# Unidad de Sistemas de Información Geográfica\n",
        "## API Manager - USIG - Datos Utiles"
      ]
    },
    {
      "cell_type": "code",
      "metadata": {
        "id": "WqJVPZB9U-Ou",
        "colab_type": "code",
        "colab": {}
      },
      "source": [
        "import requests\n",
        "import json"
      ],
      "execution_count": 0,
      "outputs": []
    },
    {
      "cell_type": "code",
      "metadata": {
        "id": "0LR9u5zfVXFN",
        "colab_type": "code",
        "colab": {}
      },
      "source": [
        "def get_datos_utiles(calle, altura):\n",
        "    ''' \n",
        "    Funcion que toma calle y altura, y obtiene el resultado de la consulta a la \n",
        "    API Datos Útiles de la web buenosaires.gob.ar. \n",
        "    Devuelve una lista con los datos JSON de respuesta convertidos en Dict.\n",
        "    '''\n",
        "    result_search =[]\n",
        "    try:\n",
        "        response = requests.get(api_url_base + '?calle=' + str(calle) + '&altura=' +str(altura))\n",
        "        if response.status_code == 200:\n",
        "            result = json.loads(response.text)\n",
        "            result_search = result\n",
        "    except ValueError as e:\n",
        "            result_search = \"Error direccion \" + str(e)\n",
        "    except:\n",
        "            result_search = \"Error OTRO\"\n",
        "            \n",
        "    return result_search\n"
      ],
      "execution_count": 0,
      "outputs": []
    },
    {
      "cell_type": "code",
      "metadata": {
        "id": "oe515gp4VdPt",
        "colab_type": "code",
        "colab": {}
      },
      "source": [
        "api_url_base = 'https://ws.usig.buenosaires.gob.ar/datos_utiles'"
      ],
      "execution_count": 0,
      "outputs": []
    },
    {
      "cell_type": "code",
      "metadata": {
        "id": "zURFL3X_pUw5",
        "colab_type": "code",
        "outputId": "abf975f4-fd9b-4fca-dc9d-681db6efd3c4",
        "colab": {
          "base_uri": "https://localhost:8080/",
          "height": 55
        }
      },
      "source": [
        "calle='LIBERTADOR%20AV.'\n",
        "altura='4500'\n",
        "\n",
        "print(get_datos_utiles(calle,altura))"
      ],
      "execution_count": 0,
      "outputs": [
        {
          "output_type": "stream",
          "text": [
            "{'comuna': 'Comuna 14', 'barrio': 'Palermo', 'comisaria': '31', 'area_hospitalaria': 'HTAL. J.A.FERNANDEZ', 'region_sanitaria': 'IV (Norte)', 'distrito_escolar': 'Distrito Escolar   IX', 'comisaria_vecinal': '14B', 'seccion_catastral': '23', 'distrito_economico': '', 'codigo_de_planeamiento_urbano': '', 'partido_amba': '', 'localidad_amba': '', 'codigo_postal': '1426', 'codigo_postal_argentino': 'C1426BWS'}\n"
          ],
          "name": "stdout"
        }
      ]
    },
    {
      "cell_type": "code",
      "metadata": {
        "id": "atOBMGBFpeWb",
        "colab_type": "code",
        "colab": {}
      },
      "source": [
        ""
      ],
      "execution_count": 0,
      "outputs": []
    }
  ]
}