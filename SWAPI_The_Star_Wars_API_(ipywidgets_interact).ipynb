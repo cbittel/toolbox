{
  "nbformat": 4,
  "nbformat_minor": 0,
  "metadata": {
    "colab": {
      "name": "SWAPI - The Star Wars API (ipywidgets interact).ipynb",
      "provenance": [],
      "collapsed_sections": [],
      "authorship_tag": "ABX9TyPaUDgnS49/bMSDmtwOenIF",
      "include_colab_link": true
    },
    "kernelspec": {
      "name": "python3",
      "display_name": "Python 3"
    },
    "widgets": {
      "application/vnd.jupyter.widget-state+json": {
        "1b67f38b57b74d389c771b81f22ec31f": {
          "model_module": "@jupyter-widgets/controls",
          "model_name": "VBoxModel",
          "state": {
            "_view_name": "VBoxView",
            "_dom_classes": [
              "widget-interact"
            ],
            "_model_name": "VBoxModel",
            "_view_module": "@jupyter-widgets/controls",
            "_model_module_version": "1.5.0",
            "_view_count": null,
            "_view_module_version": "1.5.0",
            "box_style": "",
            "layout": "IPY_MODEL_267133fc855f4262b4aae932908414e8",
            "_model_module": "@jupyter-widgets/controls",
            "children": [
              "IPY_MODEL_077d6ec29a3148b5878c45b712ad0cbf",
              "IPY_MODEL_983b48a4f62746ba9d9004835aed0c80",
              "IPY_MODEL_eeb0729640ff417eb537cfe9c109a4b7",
              "IPY_MODEL_afd0a3c515ca41ef8d560c1a66bdf857"
            ]
          }
        },
        "267133fc855f4262b4aae932908414e8": {
          "model_module": "@jupyter-widgets/base",
          "model_name": "LayoutModel",
          "state": {
            "_view_name": "LayoutView",
            "grid_template_rows": null,
            "right": null,
            "justify_content": null,
            "_view_module": "@jupyter-widgets/base",
            "overflow": null,
            "_model_module_version": "1.2.0",
            "_view_count": null,
            "flex_flow": null,
            "width": null,
            "min_width": null,
            "border": null,
            "align_items": null,
            "bottom": null,
            "_model_module": "@jupyter-widgets/base",
            "top": null,
            "grid_column": null,
            "overflow_y": null,
            "overflow_x": null,
            "grid_auto_flow": null,
            "grid_area": null,
            "grid_template_columns": null,
            "flex": null,
            "_model_name": "LayoutModel",
            "justify_items": null,
            "grid_row": null,
            "max_height": null,
            "align_content": null,
            "visibility": null,
            "align_self": null,
            "height": null,
            "min_height": null,
            "padding": null,
            "grid_auto_rows": null,
            "grid_gap": null,
            "max_width": null,
            "order": null,
            "_view_module_version": "1.2.0",
            "grid_template_areas": null,
            "object_position": null,
            "object_fit": null,
            "grid_auto_columns": null,
            "margin": null,
            "display": null,
            "left": null
          }
        },
        "077d6ec29a3148b5878c45b712ad0cbf": {
          "model_module": "@jupyter-widgets/controls",
          "model_name": "DropdownModel",
          "state": {
            "_options_labels": [
              "Luke Skywalker",
              "C-3PO",
              "R2-D2",
              "Darth Vader",
              "Leia Organa",
              "Owen Lars",
              "Beru Whitesun lars",
              "R5-D4",
              "Biggs Darklighter",
              "Obi-Wan Kenobi",
              "Anakin Skywalker",
              "Wilhuff Tarkin",
              "Chewbacca",
              "Han Solo",
              "Greedo",
              "Jabba Desilijic Tiure",
              "Wedge Antilles",
              "Jek Tono Porkins",
              "Yoda",
              "Palpatine",
              "Boba Fett",
              "IG-88",
              "Bossk",
              "Lando Calrissian",
              "Lobot",
              "Ackbar",
              "Mon Mothma",
              "Arvel Crynyd",
              "Wicket Systri Warrick",
              "Nien Nunb",
              "Qui-Gon Jinn",
              "Nute Gunray",
              "Finis Valorum",
              "PadmÃ© Amidala",
              "Jar Jar Binks",
              "Roos Tarpals",
              "Rugor Nass",
              "Ric OliÃ©",
              "Watto",
              "Sebulba",
              "Quarsh Panaka",
              "Shmi Skywalker",
              "Darth Maul",
              "Bib Fortuna",
              "Ayla Secura",
              "Ratts Tyerell",
              "Dud Bolt",
              "Gasgano",
              "Ben Quadinaros",
              "Mace Windu",
              "Ki-Adi-Mundi",
              "Kit Fisto",
              "Eeth Koth",
              "Adi Gallia",
              "Saesee Tiin",
              "Yarael Poof",
              "Plo Koon",
              "Mas Amedda",
              "Gregar Typho",
              "CordÃ©",
              "Cliegg Lars",
              "Poggle the Lesser",
              "Luminara Unduli",
              "Barriss Offee",
              "DormÃ©",
              "Dooku",
              "Bail Prestor Organa",
              "Jango Fett",
              "Zam Wesell",
              "Dexter Jettster",
              "Lama Su",
              "Taun We",
              "Jocasta Nu",
              "R4-P17",
              "Wat Tambor",
              "San Hill",
              "Shaak Ti",
              "Grievous",
              "Tarfful",
              "Raymus Antilles",
              "Sly Moore",
              "Tion Medon",
              "Finn",
              "Rey",
              "Poe Dameron"
            ],
            "_view_name": "DropdownView",
            "style": "IPY_MODEL_2f3f47b0822849abbdfc586e0e26291a",
            "_dom_classes": [],
            "description": "url_people_1",
            "_model_name": "DropdownModel",
            "index": 0,
            "_view_module": "@jupyter-widgets/controls",
            "_model_module_version": "1.5.0",
            "_view_count": null,
            "disabled": false,
            "_view_module_version": "1.5.0",
            "description_tooltip": null,
            "_model_module": "@jupyter-widgets/controls",
            "layout": "IPY_MODEL_21cf0c921fe1450ebc2486220e0f26b0"
          }
        },
        "983b48a4f62746ba9d9004835aed0c80": {
          "model_module": "@jupyter-widgets/controls",
          "model_name": "DropdownModel",
          "state": {
            "_options_labels": [
              "Luke Skywalker",
              "C-3PO",
              "R2-D2",
              "Darth Vader",
              "Leia Organa",
              "Owen Lars",
              "Beru Whitesun lars",
              "R5-D4",
              "Biggs Darklighter",
              "Obi-Wan Kenobi",
              "Anakin Skywalker",
              "Wilhuff Tarkin",
              "Chewbacca",
              "Han Solo",
              "Greedo",
              "Jabba Desilijic Tiure",
              "Wedge Antilles",
              "Jek Tono Porkins",
              "Yoda",
              "Palpatine",
              "Boba Fett",
              "IG-88",
              "Bossk",
              "Lando Calrissian",
              "Lobot",
              "Ackbar",
              "Mon Mothma",
              "Arvel Crynyd",
              "Wicket Systri Warrick",
              "Nien Nunb",
              "Qui-Gon Jinn",
              "Nute Gunray",
              "Finis Valorum",
              "PadmÃ© Amidala",
              "Jar Jar Binks",
              "Roos Tarpals",
              "Rugor Nass",
              "Ric OliÃ©",
              "Watto",
              "Sebulba",
              "Quarsh Panaka",
              "Shmi Skywalker",
              "Darth Maul",
              "Bib Fortuna",
              "Ayla Secura",
              "Ratts Tyerell",
              "Dud Bolt",
              "Gasgano",
              "Ben Quadinaros",
              "Mace Windu",
              "Ki-Adi-Mundi",
              "Kit Fisto",
              "Eeth Koth",
              "Adi Gallia",
              "Saesee Tiin",
              "Yarael Poof",
              "Plo Koon",
              "Mas Amedda",
              "Gregar Typho",
              "CordÃ©",
              "Cliegg Lars",
              "Poggle the Lesser",
              "Luminara Unduli",
              "Barriss Offee",
              "DormÃ©",
              "Dooku",
              "Bail Prestor Organa",
              "Jango Fett",
              "Zam Wesell",
              "Dexter Jettster",
              "Lama Su",
              "Taun We",
              "Jocasta Nu",
              "R4-P17",
              "Wat Tambor",
              "San Hill",
              "Shaak Ti",
              "Grievous",
              "Tarfful",
              "Raymus Antilles",
              "Sly Moore",
              "Tion Medon",
              "Finn",
              "Rey",
              "Poe Dameron"
            ],
            "_view_name": "DropdownView",
            "style": "IPY_MODEL_892256c9c2fd47308dc7718f11299555",
            "_dom_classes": [],
            "description": "url_people_2",
            "_model_name": "DropdownModel",
            "index": 18,
            "_view_module": "@jupyter-widgets/controls",
            "_model_module_version": "1.5.0",
            "_view_count": null,
            "disabled": false,
            "_view_module_version": "1.5.0",
            "description_tooltip": null,
            "_model_module": "@jupyter-widgets/controls",
            "layout": "IPY_MODEL_c4807e44233b41a38972eb6f0bc58b62"
          }
        },
        "eeb0729640ff417eb537cfe9c109a4b7": {
          "model_module": "@jupyter-widgets/controls",
          "model_name": "ButtonModel",
          "state": {
            "_view_name": "ButtonView",
            "style": "IPY_MODEL_e3bb6930e0984f71978a18a44fb671c0",
            "_dom_classes": [],
            "description": "Run Interact",
            "_model_name": "ButtonModel",
            "button_style": "",
            "_view_module": "@jupyter-widgets/controls",
            "_model_module_version": "1.5.0",
            "tooltip": "",
            "_view_count": null,
            "disabled": false,
            "_view_module_version": "1.5.0",
            "layout": "IPY_MODEL_5dfb935bbdfc4be3b4325b21790db11c",
            "_model_module": "@jupyter-widgets/controls",
            "icon": ""
          }
        },
        "afd0a3c515ca41ef8d560c1a66bdf857": {
          "model_module": "@jupyter-widgets/output",
          "model_name": "OutputModel",
          "state": {
            "_view_name": "OutputView",
            "msg_id": "",
            "_dom_classes": [],
            "_model_name": "OutputModel",
            "outputs": [
              {
                "output_type": "display_data",
                "metadata": {
                  "tags": []
                },
                "text/plain": "[['Attack of the Clones', 'https://swapi.co/api/films/5/'],\n ['The Phantom Menace', 'https://swapi.co/api/films/4/'],\n ['Revenge of the Sith', 'https://swapi.co/api/films/6/'],\n ['Return of the Jedi', 'https://swapi.co/api/films/3/'],\n ['The Empire Strikes Back', 'https://swapi.co/api/films/2/']]"
              }
            ],
            "_view_module": "@jupyter-widgets/output",
            "_model_module_version": "1.0.0",
            "_view_count": null,
            "_view_module_version": "1.0.0",
            "layout": "IPY_MODEL_e69037b78c6348c6998e3f485aadae8f",
            "_model_module": "@jupyter-widgets/output"
          }
        },
        "2f3f47b0822849abbdfc586e0e26291a": {
          "model_module": "@jupyter-widgets/controls",
          "model_name": "DescriptionStyleModel",
          "state": {
            "_view_name": "StyleView",
            "_model_name": "DescriptionStyleModel",
            "description_width": "",
            "_view_module": "@jupyter-widgets/base",
            "_model_module_version": "1.5.0",
            "_view_count": null,
            "_view_module_version": "1.2.0",
            "_model_module": "@jupyter-widgets/controls"
          }
        },
        "21cf0c921fe1450ebc2486220e0f26b0": {
          "model_module": "@jupyter-widgets/base",
          "model_name": "LayoutModel",
          "state": {
            "_view_name": "LayoutView",
            "grid_template_rows": null,
            "right": null,
            "justify_content": null,
            "_view_module": "@jupyter-widgets/base",
            "overflow": null,
            "_model_module_version": "1.2.0",
            "_view_count": null,
            "flex_flow": null,
            "width": null,
            "min_width": null,
            "border": null,
            "align_items": null,
            "bottom": null,
            "_model_module": "@jupyter-widgets/base",
            "top": null,
            "grid_column": null,
            "overflow_y": null,
            "overflow_x": null,
            "grid_auto_flow": null,
            "grid_area": null,
            "grid_template_columns": null,
            "flex": null,
            "_model_name": "LayoutModel",
            "justify_items": null,
            "grid_row": null,
            "max_height": null,
            "align_content": null,
            "visibility": null,
            "align_self": null,
            "height": null,
            "min_height": null,
            "padding": null,
            "grid_auto_rows": null,
            "grid_gap": null,
            "max_width": null,
            "order": null,
            "_view_module_version": "1.2.0",
            "grid_template_areas": null,
            "object_position": null,
            "object_fit": null,
            "grid_auto_columns": null,
            "margin": null,
            "display": null,
            "left": null
          }
        },
        "892256c9c2fd47308dc7718f11299555": {
          "model_module": "@jupyter-widgets/controls",
          "model_name": "DescriptionStyleModel",
          "state": {
            "_view_name": "StyleView",
            "_model_name": "DescriptionStyleModel",
            "description_width": "",
            "_view_module": "@jupyter-widgets/base",
            "_model_module_version": "1.5.0",
            "_view_count": null,
            "_view_module_version": "1.2.0",
            "_model_module": "@jupyter-widgets/controls"
          }
        },
        "c4807e44233b41a38972eb6f0bc58b62": {
          "model_module": "@jupyter-widgets/base",
          "model_name": "LayoutModel",
          "state": {
            "_view_name": "LayoutView",
            "grid_template_rows": null,
            "right": null,
            "justify_content": null,
            "_view_module": "@jupyter-widgets/base",
            "overflow": null,
            "_model_module_version": "1.2.0",
            "_view_count": null,
            "flex_flow": null,
            "width": null,
            "min_width": null,
            "border": null,
            "align_items": null,
            "bottom": null,
            "_model_module": "@jupyter-widgets/base",
            "top": null,
            "grid_column": null,
            "overflow_y": null,
            "overflow_x": null,
            "grid_auto_flow": null,
            "grid_area": null,
            "grid_template_columns": null,
            "flex": null,
            "_model_name": "LayoutModel",
            "justify_items": null,
            "grid_row": null,
            "max_height": null,
            "align_content": null,
            "visibility": null,
            "align_self": null,
            "height": null,
            "min_height": null,
            "padding": null,
            "grid_auto_rows": null,
            "grid_gap": null,
            "max_width": null,
            "order": null,
            "_view_module_version": "1.2.0",
            "grid_template_areas": null,
            "object_position": null,
            "object_fit": null,
            "grid_auto_columns": null,
            "margin": null,
            "display": null,
            "left": null
          }
        },
        "e3bb6930e0984f71978a18a44fb671c0": {
          "model_module": "@jupyter-widgets/controls",
          "model_name": "ButtonStyleModel",
          "state": {
            "_view_name": "StyleView",
            "_model_name": "ButtonStyleModel",
            "_view_module": "@jupyter-widgets/base",
            "_model_module_version": "1.5.0",
            "_view_count": null,
            "button_color": null,
            "font_weight": "",
            "_view_module_version": "1.2.0",
            "_model_module": "@jupyter-widgets/controls"
          }
        },
        "5dfb935bbdfc4be3b4325b21790db11c": {
          "model_module": "@jupyter-widgets/base",
          "model_name": "LayoutModel",
          "state": {
            "_view_name": "LayoutView",
            "grid_template_rows": null,
            "right": null,
            "justify_content": null,
            "_view_module": "@jupyter-widgets/base",
            "overflow": null,
            "_model_module_version": "1.2.0",
            "_view_count": null,
            "flex_flow": null,
            "width": null,
            "min_width": null,
            "border": null,
            "align_items": null,
            "bottom": null,
            "_model_module": "@jupyter-widgets/base",
            "top": null,
            "grid_column": null,
            "overflow_y": null,
            "overflow_x": null,
            "grid_auto_flow": null,
            "grid_area": null,
            "grid_template_columns": null,
            "flex": null,
            "_model_name": "LayoutModel",
            "justify_items": null,
            "grid_row": null,
            "max_height": null,
            "align_content": null,
            "visibility": null,
            "align_self": null,
            "height": null,
            "min_height": null,
            "padding": null,
            "grid_auto_rows": null,
            "grid_gap": null,
            "max_width": null,
            "order": null,
            "_view_module_version": "1.2.0",
            "grid_template_areas": null,
            "object_position": null,
            "object_fit": null,
            "grid_auto_columns": null,
            "margin": null,
            "display": null,
            "left": null
          }
        }
      }
    }
  },
  "cells": [
    {
      "cell_type": "markdown",
      "metadata": {
        "id": "view-in-github",
        "colab_type": "text"
      },
      "source": [
        "<a href=\"https://colab.research.google.com/github/cbittel/toolbox/blob/master/SWAPI_The_Star_Wars_API_(ipywidgets_interact).ipynb\" target=\"_parent\"><img src=\"https://colab.research.google.com/assets/colab-badge.svg\" alt=\"Open In Colab\"/></a>"
      ]
    },
    {
      "cell_type": "markdown",
      "metadata": {
        "id": "1rUVG9NlRvqM",
        "colab_type": "text"
      },
      "source": [
        "# SWAPI \n",
        "##The Star Wars API\n",
        "\n",
        "---\n",
        "\n",
        "\n",
        "\n",
        "Usando la API de Star Wars\t https://swapi.co/\t, hacer un programa que, dados los nombres de dos personajes, devuelva los títulos de las películas en las que aparecen los dos.\n"
      ]
    },
    {
      "cell_type": "markdown",
      "metadata": {
        "id": "aZ9UOmQXi0aU",
        "colab_type": "text"
      },
      "source": [
        "### de forma tradicional:"
      ]
    },
    {
      "cell_type": "code",
      "metadata": {
        "id": "3agnaPAZEDBC",
        "colab_type": "code",
        "colab": {}
      },
      "source": [
        "import requests\n",
        "import json"
      ],
      "execution_count": 0,
      "outputs": []
    },
    {
      "cell_type": "code",
      "metadata": {
        "id": "sHIHS1IeGOP6",
        "colab_type": "code",
        "colab": {}
      },
      "source": [
        "def search_names(name_1, name_2):\n",
        "    ''' \n",
        "    Funcion que toma el primer input, chequea el status, y si es correcto agrega el resultado del url del personaje a una \n",
        "    lista vacia, luego repite con el segundo input. Devuelve una lista con los dos url\n",
        "    '''\n",
        "    result_search =[]\n",
        "    response = requests.get(\"https://swapi.co/api/people/?search=\"+str(name_1))\n",
        "    if response.status_code == 200:\n",
        "        res_1 = json.loads(response.text)\n",
        "        result_1 = res_1['results'][-1]\n",
        "        # print(result_1['url'])\n",
        "        result_search.append(result_1['url'])\n",
        "    response = requests.get(\"https://swapi.co/api/people/?search=\"+str(name_2))\n",
        "    if response.status_code == 200:\n",
        "        res_2 = json.loads(response.text)\n",
        "        result_2 = res_2['results'][-1]\n",
        "        # print(result_2['url'])\n",
        "        result_search.append(result_2['url'])\n",
        "    else:\n",
        "        print('That is not a Star Wars character... Try again')\n",
        "    return result_search"
      ],
      "execution_count": 0,
      "outputs": []
    },
    {
      "cell_type": "code",
      "metadata": {
        "id": "w5JrIYXrphPT",
        "colab_type": "code",
        "colab": {}
      },
      "source": [
        "def get_films():\n",
        "  '''\n",
        "  Función que obtiene todas las películas a través de un método de la SWAPI\n",
        "  '''\n",
        "  films = []\n",
        "  response = requests.get('https://swapi.co/api/films/')\n",
        "  if response.status_code == 200:\n",
        "    films = json.loads(response.text)\n",
        "  else:\n",
        "    print('There was an error({})... Try again'.format(response.status_code))\n",
        "  return films"
      ],
      "execution_count": 0,
      "outputs": []
    },
    {
      "cell_type": "code",
      "metadata": {
        "id": "KuBfknpvVdHm",
        "colab_type": "code",
        "colab": {}
      },
      "source": [
        "def film_check(valores):\n",
        "    movies = []\n",
        "    '''\n",
        "    Método que verifica la participación de los personajes en cada film.\n",
        "    '''\n",
        "    films = get_films()\n",
        "    #print(films['results'])\n",
        "    if films:\n",
        "      for film in films['results']:\n",
        "        #print(films['results'][0]['characters'])\n",
        "        films_characters = film['characters']\n",
        "\n",
        "        for v in films_characters: #.items():\n",
        "            if valores[0] and valores[1] in v:\n",
        "                movies.append([film['title'],film['url']])\n",
        "    \n",
        "    return movies"
      ],
      "execution_count": 0,
      "outputs": []
    },
    {
      "cell_type": "code",
      "metadata": {
        "id": "r9eHTbsNHv1V",
        "colab_type": "code",
        "outputId": "b2144163-89eb-49e2-d818-95493ea275e6",
        "colab": {
          "base_uri": "https://localhost:8080/",
          "height": 53
        }
      },
      "source": [
        "print(film_check(search_names(\"Luke\",\"Yoda\")))"
      ],
      "execution_count": 8,
      "outputs": [
        {
          "output_type": "stream",
          "text": [
            "[['Attack of the Clones', 'https://swapi.co/api/films/5/'], ['The Phantom Menace', 'https://swapi.co/api/films/4/'], ['Revenge of the Sith', 'https://swapi.co/api/films/6/'], ['Return of the Jedi', 'https://swapi.co/api/films/3/'], ['The Empire Strikes Back', 'https://swapi.co/api/films/2/']]\n"
          ],
          "name": "stdout"
        }
      ]
    },
    {
      "cell_type": "markdown",
      "metadata": {
        "id": "j9dg8uG2jKoo",
        "colab_type": "text"
      },
      "source": [
        "### de forma Interactiva:"
      ]
    },
    {
      "cell_type": "code",
      "metadata": {
        "id": "_Q5J1Czv0_gJ",
        "colab_type": "code",
        "colab": {}
      },
      "source": [
        "# %pip install ipywidgets"
      ],
      "execution_count": 0,
      "outputs": []
    },
    {
      "cell_type": "code",
      "metadata": {
        "id": "rlo2X-Fi1VtZ",
        "colab_type": "code",
        "colab": {}
      },
      "source": [
        "import ipywidgets as widgets\n",
        "from ipywidgets import interact, interact_manual"
      ],
      "execution_count": 0,
      "outputs": []
    },
    {
      "cell_type": "code",
      "metadata": {
        "id": "utBFYMj2-drj",
        "colab_type": "code",
        "colab": {}
      },
      "source": [
        "def search_names_for_interact():\n",
        "    ''' \n",
        "    Funcion que intenta obtener todos los nombres de los personajes, chequea el status \n",
        "    y, si fue correcto, agrega el resultado del 'name' de cada personaje a una lista. \n",
        "    Devuelve una lista con los 'name' de los personajes\n",
        "    '''\n",
        "    result_search =[]\n",
        "    response = requests.get(\"https://swapi.co/api/people/\")\n",
        "    if response.status_code == 200:\n",
        "        res_1 = json.loads(response.text)\n",
        "        for i in range(1, res_1['count'], 1):\n",
        "          response = requests.get(\"https://swapi.co/api/people/{}/\".format(i))\n",
        "          if response.status_code == 200:\n",
        "            result_1 = json.loads(response.text)\n",
        "            result_search.append((result_1['name'], result_1['url']))\n",
        "            # print('i={}, name={}'.format(i,result_1['name']))\n",
        "    else:\n",
        "        print('That is not a Star Wars character... Try again')\n",
        "    # print(result_search)\n",
        "    return result_search"
      ],
      "execution_count": 0,
      "outputs": []
    },
    {
      "cell_type": "code",
      "metadata": {
        "colab_type": "code",
        "id": "906SrmenQrwl",
        "colab": {}
      },
      "source": [
        "def film_check2(url_people_1, url_people_2):\n",
        "    movies = []\n",
        "    '''\n",
        "    Método que verifica la participación de los personajes en cada film.\n",
        "    '''\n",
        "    films = get_films()\n",
        "    #print(films['results'])\n",
        "    if films:\n",
        "      for film in films['results']:\n",
        "        #print(films['results'][0]['characters'])\n",
        "        films_characters = film['characters']\n",
        "\n",
        "        for v in films_characters: #.items():\n",
        "            if url_people_1 and url_people_2 in v:\n",
        "                movies.append([film['title'],film['url']])\n",
        "    \n",
        "    return movies"
      ],
      "execution_count": 0,
      "outputs": []
    },
    {
      "cell_type": "code",
      "metadata": {
        "id": "LEXAFMMxjp8_",
        "colab_type": "code",
        "colab": {}
      },
      "source": [
        "%time\n",
        "search_names_for_interact = search_names_for_interact()\n"
      ],
      "execution_count": 0,
      "outputs": []
    },
    {
      "cell_type": "code",
      "metadata": {
        "id": "A6P46Bp4wgXo",
        "colab_type": "code",
        "outputId": "7b4564ee-e935-4604-cd30-8857270b0fc8",
        "colab": {
          "base_uri": "https://localhost:8080/",
          "height": 213,
          "referenced_widgets": [
            "1b67f38b57b74d389c771b81f22ec31f",
            "267133fc855f4262b4aae932908414e8",
            "077d6ec29a3148b5878c45b712ad0cbf",
            "983b48a4f62746ba9d9004835aed0c80",
            "eeb0729640ff417eb537cfe9c109a4b7",
            "afd0a3c515ca41ef8d560c1a66bdf857",
            "2f3f47b0822849abbdfc586e0e26291a",
            "21cf0c921fe1450ebc2486220e0f26b0",
            "892256c9c2fd47308dc7718f11299555",
            "c4807e44233b41a38972eb6f0bc58b62",
            "e3bb6930e0984f71978a18a44fb671c0",
            "5dfb935bbdfc4be3b4325b21790db11c"
          ]
        }
      },
      "source": [
        "movies = interact_manual(film_check2,\n",
        "                        url_people_1=widgets.Dropdown(options=search_names_for_interact),\n",
        "                        url_people_2=widgets.Dropdown(options=search_names_for_interact))\n",
        "\n",
        "display(movies)"
      ],
      "execution_count": 17,
      "outputs": [
        {
          "output_type": "display_data",
          "data": {
            "application/vnd.jupyter.widget-view+json": {
              "model_id": "1b67f38b57b74d389c771b81f22ec31f",
              "version_minor": 0,
              "version_major": 2
            },
            "text/plain": [
              "interactive(children=(Dropdown(description='url_people_1', options=(('Luke Skywalker', 'https://swapi.co/api/p…"
            ]
          },
          "metadata": {
            "tags": []
          }
        },
        {
          "output_type": "display_data",
          "data": {
            "text/plain": [
              "<function __main__.film_check2>"
            ]
          },
          "metadata": {
            "tags": []
          }
        }
      ]
    },
    {
      "cell_type": "code",
      "metadata": {
        "id": "onts9y9qJ-aN",
        "colab_type": "code",
        "colab": {}
      },
      "source": [
        ""
      ],
      "execution_count": 0,
      "outputs": []
    }
  ]
}