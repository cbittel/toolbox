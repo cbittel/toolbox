{
  "nbformat": 4,
  "nbformat_minor": 0,
  "metadata": {
    "colab": {
      "name": "SWAPI - The Star Wars API.ipynb",
      "provenance": [],
      "collapsed_sections": [],
      "authorship_tag": "ABX9TyPJl0715LspyqcVJ8kiyAFV",
      "include_colab_link": true
    },
    "kernelspec": {
      "name": "python3",
      "display_name": "Python 3"
    }
  },
  "cells": [
    {
      "cell_type": "markdown",
      "metadata": {
        "id": "view-in-github",
        "colab_type": "text"
      },
      "source": [
        "<a href=\"https://colab.research.google.com/github/cbittel/toolbox/blob/master/SWAPI_The_Star_Wars_API.ipynb\" target=\"_parent\"><img src=\"https://colab.research.google.com/assets/colab-badge.svg\" alt=\"Open In Colab\"/></a>"
      ]
    },
    {
      "cell_type": "markdown",
      "metadata": {
        "id": "1rUVG9NlRvqM",
        "colab_type": "text"
      },
      "source": [
        "# SWAPI \n",
        "##The Star Wars API\n",
        "\n",
        "---\n",
        "\n",
        "\n",
        "\n",
        "Usando la API de Star Wars\t https://swapi.co/\t, hacer un programa que, dados los nombres de dos personajes, devuelva los títulos de las películas en las que aparecen los dos.\n"
      ]
    },
    {
      "cell_type": "code",
      "metadata": {
        "id": "3agnaPAZEDBC",
        "colab_type": "code",
        "colab": {}
      },
      "source": [
        "import requests\n",
        "import json"
      ],
      "execution_count": 0,
      "outputs": []
    },
    {
      "cell_type": "code",
      "metadata": {
        "id": "sHIHS1IeGOP6",
        "colab_type": "code",
        "colab": {}
      },
      "source": [
        "def search_names(name_1, name_2):\n",
        "    ''' \n",
        "    Funcion que toma el primer input, chequea el status, y si es correcto agrega el resultado del url del personaje a una \n",
        "    lista vacia, luego repite con el segundo input. Devuelve una lista con los dos url\n",
        "    '''\n",
        "    result_search =[]\n",
        "    response = requests.get(\"https://swapi.co/api/people/?search=\"+str(name_1))\n",
        "    if response.status_code == 200:\n",
        "        res_1 = json.loads(response.text)\n",
        "        result_1 = res_1['results'][-1]\n",
        "        result_search.append(result_1['url'])\n",
        "    response = requests.get(\"https://swapi.co/api/people/?search=\"+str(name_2))\n",
        "    if response.status_code == 200:\n",
        "        res_2 = json.loads(response.text)\n",
        "        result_2 = res_2['results'][-1]\n",
        "        result_search.append(result_2['url'])\n",
        "    else:\n",
        "        print('That is not a Star Wars character... Try again')\n",
        "    return result_search"
      ],
      "execution_count": 0,
      "outputs": []
    },
    {
      "cell_type": "code",
      "metadata": {
        "id": "w5JrIYXrphPT",
        "colab_type": "code",
        "colab": {}
      },
      "source": [
        "def get_films():\n",
        "  '''\n",
        "  Función que obtiene todas las películas a través de un método de la SWAPI\n",
        "  '''\n",
        "  films = []\n",
        "  response = requests.get('https://swapi.co/api/films/')\n",
        "  if response.status_code == 200:\n",
        "    films = json.loads(response.text)\n",
        "  else:\n",
        "    print('There was an error({})... Try again'.format(response.status_code))\n",
        "  return films"
      ],
      "execution_count": 0,
      "outputs": []
    },
    {
      "cell_type": "code",
      "metadata": {
        "id": "KuBfknpvVdHm",
        "colab_type": "code",
        "colab": {}
      },
      "source": [
        "def film_check(valores):\n",
        "    movies = []\n",
        "    '''\n",
        "    Método que verifica la participación de los personajes en cada film.\n",
        "    '''\n",
        "    films = get_films()\n",
        "    #print(films['results'])\n",
        "    if films:\n",
        "      for film in films['results']:\n",
        "        #print(films['results'][0]['characters'])\n",
        "        films_characters = film['characters']\n",
        "\n",
        "        for v in films_characters: #.items():\n",
        "            if valores[0] and valores[1] in v:\n",
        "                movies.append([film['title'],film['url']])\n",
        "    \n",
        "    return movies"
      ],
      "execution_count": 0,
      "outputs": []
    },
    {
      "cell_type": "code",
      "metadata": {
        "id": "r9eHTbsNHv1V",
        "colab_type": "code",
        "colab": {
          "base_uri": "https://localhost:8080/",
          "height": 53
        },
        "outputId": "9f869557-be55-46a9-94b3-d5b74b6081c7"
      },
      "source": [
        "print(film_check(search_names(\"Luke\",\"Yoda\")))"
      ],
      "execution_count": 13,
      "outputs": [
        {
          "output_type": "stream",
          "text": [
            "[['Attack of the Clones', 'https://swapi.co/api/films/5/'], ['The Phantom Menace', 'https://swapi.co/api/films/4/'], ['Revenge of the Sith', 'https://swapi.co/api/films/6/'], ['Return of the Jedi', 'https://swapi.co/api/films/3/'], ['The Empire Strikes Back', 'https://swapi.co/api/films/2/']]\n"
          ],
          "name": "stdout"
        }
      ]
    },
    {
      "cell_type": "code",
      "metadata": {
        "id": "A6P46Bp4wgXo",
        "colab_type": "code",
        "colab": {}
      },
      "source": [
        ""
      ],
      "execution_count": 0,
      "outputs": []
    }
  ]
}