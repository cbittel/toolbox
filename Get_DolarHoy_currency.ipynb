{
  "nbformat": 4,
  "nbformat_minor": 0,
  "metadata": {
    "colab": {
      "name": "Get_DolarHoy_currency.ipynb",
      "provenance": [],
      "authorship_tag": "ABX9TyPzlGhT+jOvi4+4PXCFdWFQ",
      "include_colab_link": true
    },
    "kernelspec": {
      "name": "python3",
      "display_name": "Python 3"
    }
  },
  "cells": [
    {
      "cell_type": "markdown",
      "metadata": {
        "id": "view-in-github",
        "colab_type": "text"
      },
      "source": [
        "<a href=\"https://colab.research.google.com/github/cbittel/toolbox/blob/master/Get_DolarHoy_currency.ipynb\" target=\"_parent\"><img src=\"https://colab.research.google.com/assets/colab-badge.svg\" alt=\"Open In Colab\"/></a>"
      ]
    },
    {
      "cell_type": "markdown",
      "metadata": {
        "id": "PivixpX9gona",
        "colab_type": "text"
      },
      "source": [
        "#Get Dollar Currency Exchange values from DolarHoy.com"
      ]
    },
    {
      "cell_type": "markdown",
      "metadata": {
        "id": "ppU8T1_ILZKZ",
        "colab_type": "text"
      },
      "source": [
        "##Test Pandas.read_html()"
      ]
    },
    {
      "cell_type": "code",
      "metadata": {
        "id": "udlP1qrs0lC3",
        "colab_type": "code",
        "colab": {}
      },
      "source": [
        "import pandas as pd\n",
        "\n",
        "pd.set_option('display.max_colwidth', None)"
      ],
      "execution_count": 0,
      "outputs": []
    },
    {
      "cell_type": "code",
      "metadata": {
        "id": "yyyfSizrfyRw",
        "colab_type": "code",
        "colab": {
          "base_uri": "https://localhost:8080/",
          "height": 33
        },
        "outputId": "aeb63d25-f1f3-4a78-e1aa-5d86b4b4fa34"
      },
      "source": [
        "''' https://www.dolarhoy.com/ '''"
      ],
      "execution_count": 9,
      "outputs": [
        {
          "output_type": "execute_result",
          "data": {
            "text/plain": [
              "' https://www.dolarhoy.com/ '"
            ]
          },
          "metadata": {
            "tags": []
          },
          "execution_count": 9
        }
      ]
    },
    {
      "cell_type": "code",
      "metadata": {
        "id": "n256_lGaQvSy",
        "colab_type": "code",
        "outputId": "55571317-0a75-4ddf-ab8d-ab99ce6a7f4e",
        "colab": {
          "base_uri": "https://localhost:8080/",
          "height": 212
        }
      },
      "source": [
        "dollar_today = pd.read_html('https://www.dolarhoy.com/')[0]\n",
        "print(dollar_today.shape)\n",
        "display(dollar_today)"
      ],
      "execution_count": 10,
      "outputs": [
        {
          "output_type": "display_data",
          "data": {
            "text/html": [
              "<div>\n",
              "<style scoped>\n",
              "    .dataframe tbody tr th:only-of-type {\n",
              "        vertical-align: middle;\n",
              "    }\n",
              "\n",
              "    .dataframe tbody tr th {\n",
              "        vertical-align: top;\n",
              "    }\n",
              "\n",
              "    .dataframe thead th {\n",
              "        text-align: right;\n",
              "    }\n",
              "</style>\n",
              "<table border=\"1\" class=\"dataframe\">\n",
              "  <thead>\n",
              "    <tr style=\"text-align: right;\">\n",
              "      <th></th>\n",
              "      <th>Entidad</th>\n",
              "      <th>Compra</th>\n",
              "      <th>Venta</th>\n",
              "    </tr>\n",
              "  </thead>\n",
              "  <tbody>\n",
              "    <tr>\n",
              "      <th>0</th>\n",
              "      <td>Banco Nación</td>\n",
              "      <td>$ 64,75</td>\n",
              "      <td>$ 69,75</td>\n",
              "    </tr>\n",
              "    <tr>\n",
              "      <th>1</th>\n",
              "      <td>Dólar Libre</td>\n",
              "      <td>$ 128,00</td>\n",
              "      <td>$ 138,00</td>\n",
              "    </tr>\n",
              "    <tr>\n",
              "      <th>2</th>\n",
              "      <td>Mayorista</td>\n",
              "      <td>$ 67,73</td>\n",
              "      <td>$ 67,73</td>\n",
              "    </tr>\n",
              "    <tr>\n",
              "      <th>3</th>\n",
              "      <td>Dólar Bolsa</td>\n",
              "      <td>$ 118,18</td>\n",
              "      <td>$ 118,34</td>\n",
              "    </tr>\n",
              "    <tr>\n",
              "      <th>4</th>\n",
              "      <td>Contado con Liqui</td>\n",
              "      <td>$ 121,47</td>\n",
              "      <td>$ 121,96</td>\n",
              "    </tr>\n",
              "  </tbody>\n",
              "</table>\n",
              "</div>"
            ],
            "text/plain": [
              "             Entidad    Compra     Venta\n",
              "0       Banco Nación   $ 64,75   $ 69,75\n",
              "1        Dólar Libre  $ 128,00  $ 138,00\n",
              "2          Mayorista   $ 67,73   $ 67,73\n",
              "3        Dólar Bolsa  $ 118,18  $ 118,34\n",
              "4  Contado con Liqui  $ 121,47  $ 121,96"
            ]
          },
          "metadata": {
            "tags": []
          }
        },
        {
          "output_type": "stream",
          "text": [
            "(5, 3)\n"
          ],
          "name": "stdout"
        }
      ]
    },
    {
      "cell_type": "markdown",
      "metadata": {
        "id": "4rPIlhFZgt4q",
        "colab_type": "text"
      },
      "source": [
        "\n",
        "\n",
        "---\n",
        "\n",
        "##Functions to include in Practicum backend\n"
      ]
    },
    {
      "cell_type": "code",
      "metadata": {
        "colab_type": "code",
        "id": "_3g3TydTSjaf",
        "colab": {}
      },
      "source": [
        "def another_get_decimal_from_currency(str_currency):\n",
        "  from re import sub\n",
        "  from decimal import Decimal\n",
        "  import locale\n",
        "\n",
        "  locale.setlocale(locale.LC_ALL, 'en_US.utf8') # this is not valid on Google Colab\n",
        "  conv = locale.localeconv()\n",
        "\n",
        "  raw_numbers = str_currency.strip(conv['currency_symbol'].decode('utf-8'))\n",
        "  value = locale.atof(raw_numbers)\n",
        "  #print(type(value))\n",
        "  #print(value)\n",
        "  return value"
      ],
      "execution_count": 0,
      "outputs": []
    },
    {
      "cell_type": "code",
      "metadata": {
        "id": "F32HyjG4c57F",
        "colab_type": "code",
        "colab": {
          "base_uri": "https://localhost:8080/",
          "height": 67
        },
        "outputId": "be09f552-e0e3-423d-bdb0-09dbe0e30851"
      },
      "source": [
        "from re import sub\n",
        "\n",
        "str_currency = '$ 138,00'\n",
        "print(str_currency)\n",
        "print(sub(r'[^\\d\\-,]', '', str_currency))\n",
        "print(sub(r'[^\\d\\-,]', '', str_currency).replace(',', '.'))"
      ],
      "execution_count": 6,
      "outputs": [
        {
          "output_type": "stream",
          "text": [
            "$ 138,00\n",
            "138,00\n",
            "138.00\n"
          ],
          "name": "stdout"
        }
      ]
    },
    {
      "cell_type": "code",
      "metadata": {
        "id": "NNR0D-g9Dody",
        "colab_type": "code",
        "colab": {}
      },
      "source": [
        "def get_decimal_from_currency(str_currency):\n",
        "  from re import sub\n",
        "  from decimal import Decimal\n",
        "\n",
        "  value = Decimal(sub(r'[^\\d\\-,]', '', str_currency).replace(',', '.'))\n",
        "  #print(type(value))\n",
        "  #print(value)\n",
        "  return value"
      ],
      "execution_count": 0,
      "outputs": []
    },
    {
      "cell_type": "code",
      "metadata": {
        "id": "SbPAeANYf6f7",
        "colab_type": "code",
        "colab": {}
      },
      "source": [
        "def get_dollar_today():\n",
        "  '''  #returns a pair: (usd_official, usd_market)'''\n",
        "  import pandas as pd\n",
        "  \n",
        "  # dolarhoy.com es una web con frecuente actualización de interfaz UX, \n",
        "  # esto funciona en esta fecha, revisar cada vez que se vuelva a ejecutar. \n",
        "  dollar_today = pd.read_html('https://www.dolarhoy.com/')[0]\n",
        "  #print(dollar_today)\n",
        "  return get_decimal_from_currency(dollar_today.iloc[0][2]), get_decimal_from_currency(dollar_today.iloc[1][2])\n"
      ],
      "execution_count": 0,
      "outputs": []
    },
    {
      "cell_type": "code",
      "metadata": {
        "id": "jKKM8xpk5mec",
        "colab_type": "code",
        "colab": {
          "base_uri": "https://localhost:8080/",
          "height": 33
        },
        "outputId": "63f8e234-d409-4515-ef49-e03f4b136b9d"
      },
      "source": [
        "# Test\n",
        "print(get_dollar_today())"
      ],
      "execution_count": 4,
      "outputs": [
        {
          "output_type": "stream",
          "text": [
            "(Decimal('69.75'), Decimal('138.00'))\n"
          ],
          "name": "stdout"
        }
      ]
    },
    {
      "cell_type": "markdown",
      "metadata": {
        "id": "7VNGC252PbK6",
        "colab_type": "text"
      },
      "source": [
        "\n",
        "\n",
        "---\n",
        "\n",
        "\n",
        "\n"
      ]
    }
  ]
}