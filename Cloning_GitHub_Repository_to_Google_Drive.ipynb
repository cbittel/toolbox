{
  "nbformat": 4,
  "nbformat_minor": 0,
  "metadata": {
    "colab": {
      "name": "Cloning_GitHub_Repository_to_Google_Drive.ipynb",
      "provenance": [],
      "collapsed_sections": [],
      "toc_visible": true,
      "authorship_tag": "ABX9TyP0eDQFNOIwIS6K/3CXGxYu",
      "include_colab_link": true
    },
    "kernelspec": {
      "name": "python3",
      "display_name": "Python 3"
    }
  },
  "cells": [
    {
      "cell_type": "markdown",
      "metadata": {
        "id": "view-in-github",
        "colab_type": "text"
      },
      "source": [
        "<a href=\"https://colab.research.google.com/github/cbittel/toolbox/blob/master/Cloning_GitHub_Repository_to_Google_Drive.ipynb\" target=\"_parent\"><img src=\"https://colab.research.google.com/assets/colab-badge.svg\" alt=\"Open In Colab\"/></a>"
      ]
    },
    {
      "cell_type": "markdown",
      "metadata": {
        "id": "xSxEUS5g9Awc",
        "colab_type": "text"
      },
      "source": [
        "#Cloning GitHub Repository to Google Drive from Colab"
      ]
    },
    {
      "cell_type": "markdown",
      "metadata": {
        "id": "Zcx4vVc7_icX",
        "colab_type": "text"
      },
      "source": [
        "####Para Google Colab"
      ]
    },
    {
      "cell_type": "code",
      "metadata": {
        "colab_type": "code",
        "id": "WC5OfX4Qsivy",
        "colab": {
          "base_uri": "https://localhost:8080/",
          "height": 35
        },
        "outputId": "f1a735e7-0180-4be5-cfe3-7c176f86ff14"
      },
      "source": [
        "# para Colab, excluir para Anaconda\n",
        "from google.colab import drive \n",
        "drive.mount('/content/gdrive')"
      ],
      "execution_count": null,
      "outputs": [
        {
          "output_type": "stream",
          "text": [
            "Mounted at /content/gdrive\n"
          ],
          "name": "stdout"
        }
      ]
    },
    {
      "cell_type": "code",
      "metadata": {
        "id": "fwjkN17Rr4M6",
        "colab_type": "code",
        "colab": {}
      },
      "source": [
        "## importar código desde el FileSystem de Colab\n",
        "#import sys\n",
        "#sys.path.append('/content/gdrive/My Drive/Colab Notebooks/my_modules/')\n",
        "#\n",
        "#import data_manipulation"
      ],
      "execution_count": null,
      "outputs": []
    },
    {
      "cell_type": "code",
      "metadata": {
        "colab_type": "code",
        "id": "rZnel_iusiwP",
        "colab": {}
      },
      "source": [
        "# para Anaconda:\n",
        "path = ''\n",
        "\n",
        "# para Colab, CB:\n",
        "path = 'gdrive/My Drive/Data Science/DSGOvirtual/'"
      ],
      "execution_count": null,
      "outputs": []
    },
    {
      "cell_type": "markdown",
      "metadata": {
        "id": "wC3lNzy7d9gY",
        "colab_type": "text"
      },
      "source": [
        "\n",
        "\n",
        "---\n",
        "\n",
        "\n",
        "\n",
        "---\n",
        "\n",
        "## Cloning GitHub repository"
      ]
    },
    {
      "cell_type": "code",
      "metadata": {
        "id": "5ft0dgEpfqHB",
        "colab_type": "code",
        "colab": {
          "base_uri": "https://localhost:8080/",
          "height": 35
        },
        "outputId": "63aba8ec-744a-4891-a8a2-ba5ac08b285a"
      },
      "source": [
        "%cd 'gdrive/My Drive/Data Science/DSGOvirtual/'\n",
        "!ls "
      ],
      "execution_count": null,
      "outputs": [
        {
          "output_type": "stream",
          "text": [
            "/content/gdrive/My Drive/Data Science/DSGOvirtual\n"
          ],
          "name": "stdout"
        }
      ]
    },
    {
      "cell_type": "code",
      "metadata": {
        "id": "rwYkyUIrd_A7",
        "colab_type": "code",
        "colab": {
          "base_uri": "https://localhost:8080/",
          "height": 146
        },
        "outputId": "2ee46049-af74-4e9a-973d-bff06e61ba02"
      },
      "source": [
        "!git clone https://github.com/Samreay/DSGoPipeline.git"
      ],
      "execution_count": null,
      "outputs": [
        {
          "output_type": "stream",
          "text": [
            "Cloning into 'DSGoPipeline'...\n",
            "remote: Enumerating objects: 180, done.\u001b[K\n",
            "remote: Counting objects: 100% (180/180), done.\u001b[K\n",
            "remote: Compressing objects: 100% (115/115), done.\u001b[K\n",
            "remote: Total 180 (delta 86), reused 149 (delta 58), pack-reused 0\u001b[K\n",
            "Receiving objects: 100% (180/180), 19.83 MiB | 12.24 MiB/s, done.\n",
            "Resolving deltas: 100% (86/86), done.\n"
          ],
          "name": "stdout"
        }
      ]
    },
    {
      "cell_type": "markdown",
      "metadata": {
        "id": "yDcqeqzqeAyo",
        "colab_type": "text"
      },
      "source": [
        "\n",
        "\n",
        "---\n",
        "\n",
        "\n",
        "\n",
        "---\n",
        "\n"
      ]
    },
    {
      "cell_type": "code",
      "metadata": {
        "id": "u9Q5U7imeDKd",
        "colab_type": "code",
        "colab": {
          "base_uri": "https://localhost:8080/",
          "height": 35
        },
        "outputId": "b5539600-3a2d-442d-c818-b25df4421dec"
      },
      "source": [
        "!ls"
      ],
      "execution_count": null,
      "outputs": [
        {
          "output_type": "stream",
          "text": [
            "DSGoPipeline\n"
          ],
          "name": "stdout"
        }
      ]
    },
    {
      "cell_type": "code",
      "metadata": {
        "id": "2-arv1mGiig_",
        "colab_type": "code",
        "colab": {}
      },
      "source": [
        ""
      ],
      "execution_count": null,
      "outputs": []
    }
  ]
}